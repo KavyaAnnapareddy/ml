{
 "cells": [
  {
   "cell_type": "markdown",
   "id": "67697fee-00b6-4f02-a911-59b15664fdf3",
   "metadata": {},
   "source": [
    "# Numpy\n",
    "The scikit-learn library requires input tables of 2-dimensional NumPy arrays\n",
    "\n",
    "## Initializing Numpy arrays"
   ]
  },
  {
   "cell_type": "code",
   "execution_count": 1,
   "id": "c4640b5b-4f6c-492c-b675-c073fc0bcd91",
   "metadata": {},
   "outputs": [],
   "source": [
    "import numpy as np"
   ]
  },
  {
   "cell_type": "code",
   "execution_count": 2,
   "id": "8c35f324-4b0b-40fa-91c8-12a0db3a1447",
   "metadata": {},
   "outputs": [
    {
     "data": {
      "text/plain": [
       "array([[0, 1],\n",
       "       [2, 3],\n",
       "       [4, 5],\n",
       "       [6, 7],\n",
       "       [8, 9]])"
      ]
     },
     "execution_count": 2,
     "metadata": {},
     "output_type": "execute_result"
    }
   ],
   "source": [
    "np.arange(10).reshape((5,2))"
   ]
  },
  {
   "cell_type": "code",
   "execution_count": 3,
   "id": "d8be0dd0-d503-4fa5-91c1-ce2c2ad8e728",
   "metadata": {},
   "outputs": [
    {
     "data": {
      "text/plain": [
       "array([[0., 0.],\n",
       "       [0., 0.],\n",
       "       [0., 0.],\n",
       "       [0., 0.],\n",
       "       [0., 0.]])"
      ]
     },
     "execution_count": 3,
     "metadata": {},
     "output_type": "execute_result"
    }
   ],
   "source": [
    "# Initialize an array of zeros with np.zeros\n",
    "np.zeros((5,2))"
   ]
  },
  {
   "cell_type": "code",
   "execution_count": 4,
   "id": "d628d16e-0af2-4ee7-8600-9377941679fa",
   "metadata": {},
   "outputs": [
    {
     "data": {
      "text/plain": [
       "array([[1, 1],\n",
       "       [1, 1],\n",
       "       [1, 1],\n",
       "       [1, 1],\n",
       "       [1, 1]])"
      ]
     },
     "execution_count": 4,
     "metadata": {},
     "output_type": "execute_result"
    }
   ],
   "source": [
    "# initialize array of ones using np.ones. introduce dtype \n",
    "np.ones((5,2), dtype= int)"
   ]
  },
  {
   "cell_type": "code",
   "execution_count": 5,
   "id": "d0b5e638-0417-4b5d-a5f2-0d7a72e7e840",
   "metadata": {},
   "outputs": [
    {
     "data": {
      "text/plain": [
       "array([[0., 0.],\n",
       "       [0., 0.],\n",
       "       [0., 0.],\n",
       "       [0., 0.],\n",
       "       [0., 0.]])"
      ]
     },
     "execution_count": 5,
     "metadata": {},
     "output_type": "execute_result"
    }
   ],
   "source": [
    "# use np.empty to allocate memory for an array\n",
    "np.empty((5,2), dtype= float)"
   ]
  },
  {
   "cell_type": "markdown",
   "id": "27d0d9bc-0662-4809-a938-d4b20cffd46a",
   "metadata": {},
   "source": [
    "## Indexing\n",
    "look up the values of 2-dimensional arrays with indexing"
   ]
  },
  {
   "cell_type": "code",
   "execution_count": 10,
   "id": "31e405fe-7977-4eb0-a9c7-d0d408a1a115",
   "metadata": {},
   "outputs": [
    {
     "data": {
      "text/plain": [
       "array([[ 1,  2],\n",
       "       [ 3,  4],\n",
       "       [ 5,  6],\n",
       "       [ 7,  8],\n",
       "       [ 9, 10]])"
      ]
     },
     "execution_count": 10,
     "metadata": {},
     "output_type": "execute_result"
    }
   ],
   "source": [
    "# add 1 to every element of the array by broadcasting\n",
    "array_1= np.arange(10).reshape((5,2))+1\n",
    "array_1"
   ]
  },
  {
   "cell_type": "code",
   "execution_count": null,
   "id": "a30553a5-1f7e-498e-937a-43e4758d506f",
   "metadata": {},
   "outputs": [],
   "source": [
    "array_1.shape"
   ]
  },
  {
   "cell_type": "code",
   "execution_count": null,
   "id": "01160079-ed20-495d-b572-19d43d2442bf",
   "metadata": {},
   "outputs": [],
   "source": [
    "array_1.ndim"
   ]
  },
  {
   "cell_type": "code",
   "execution_count": 11,
   "id": "bead7cb8-df1a-405b-b6ee-5a472f42f3f0",
   "metadata": {},
   "outputs": [
    {
     "data": {
      "text/plain": [
       "1"
      ]
     },
     "execution_count": 11,
     "metadata": {},
     "output_type": "execute_result"
    }
   ],
   "source": [
    "# view first element\n",
    "array_1[0,0]"
   ]
  },
  {
   "cell_type": "code",
   "execution_count": 13,
   "id": "af6378bc-4641-41ed-a566-bd21c7d47e74",
   "metadata": {},
   "outputs": [
    {
     "data": {
      "text/plain": [
       "array([1, 2])"
      ]
     },
     "execution_count": 13,
     "metadata": {},
     "output_type": "execute_result"
    }
   ],
   "source": [
    "# view first row\n",
    "array_1[0,:]"
   ]
  },
  {
   "cell_type": "code",
   "execution_count": 14,
   "id": "3480d423-51d4-4aa0-8df4-5e1848448993",
   "metadata": {},
   "outputs": [
    {
     "data": {
      "text/plain": [
       "array([1, 3, 5, 7, 9])"
      ]
     },
     "execution_count": 14,
     "metadata": {},
     "output_type": "execute_result"
    }
   ],
   "source": [
    "# view first column\n",
    "array_1[:,0]"
   ]
  },
  {
   "cell_type": "code",
   "execution_count": 15,
   "id": "9a9aacc5-4783-4f2c-928a-254f89bbec7f",
   "metadata": {},
   "outputs": [
    {
     "data": {
      "text/plain": [
       "array([[ 5,  6],\n",
       "       [ 7,  8],\n",
       "       [ 9, 10]])"
      ]
     },
     "execution_count": 15,
     "metadata": {},
     "output_type": "execute_result"
    }
   ],
   "source": [
    "# view specific values along both axes\n",
    "array_1[2:5,:]"
   ]
  },
  {
   "cell_type": "code",
   "execution_count": 16,
   "id": "c0a06b63-f3dd-4294-abad-d81b631d8d02",
   "metadata": {},
   "outputs": [
    {
     "data": {
      "text/plain": [
       "array([5, 7, 9])"
      ]
     },
     "execution_count": 16,
     "metadata": {},
     "output_type": "execute_result"
    }
   ],
   "source": [
    "# view second to fourth rows only along first column\n",
    "array_1[2:5,0]"
   ]
  },
  {
   "cell_type": "markdown",
   "id": "3227dacd-9c96-4c31-8d3c-124d6f2cff75",
   "metadata": {},
   "source": [
    "## Boolean arrays"
   ]
  },
  {
   "cell_type": "code",
   "execution_count": 17,
   "id": "8e46e415-1e73-44f3-b56f-28172c4280a7",
   "metadata": {},
   "outputs": [
    {
     "data": {
      "text/plain": [
       "array([[False, False],\n",
       "       [False, False],\n",
       "       [False,  True],\n",
       "       [ True,  True],\n",
       "       [ True,  True]])"
      ]
     },
     "execution_count": 17,
     "metadata": {},
     "output_type": "execute_result"
    }
   ],
   "source": [
    "array_1>5"
   ]
  },
  {
   "cell_type": "code",
   "execution_count": 18,
   "id": "ac5fb78c-56d3-4e4d-b2be-9781624c483c",
   "metadata": {},
   "outputs": [
    {
     "data": {
      "text/plain": [
       "array([ 6,  7,  8,  9, 10])"
      ]
     },
     "execution_count": 18,
     "metadata": {},
     "output_type": "execute_result"
    }
   ],
   "source": [
    "# to filter by boolean array\n",
    "array_1[array_1>5]"
   ]
  },
  {
   "cell_type": "markdown",
   "id": "352c6dd3-1e2b-47a8-80db-33b957aa050f",
   "metadata": {},
   "source": [
    "## Aritmetic Operations"
   ]
  },
  {
   "cell_type": "code",
   "execution_count": 24,
   "id": "1cdade81-7a83-4dbd-bfd8-df70e76021b3",
   "metadata": {},
   "outputs": [
    {
     "data": {
      "text/plain": [
       "array([[ 1,  2],\n",
       "       [ 3,  4],\n",
       "       [ 5,  6],\n",
       "       [ 7,  8],\n",
       "       [ 9, 10]])"
      ]
     },
     "execution_count": 24,
     "metadata": {},
     "output_type": "execute_result"
    }
   ],
   "source": [
    "array_1"
   ]
  },
  {
   "cell_type": "code",
   "execution_count": 19,
   "id": "e86ff7e1-a988-4848-91ea-730efe2d14c8",
   "metadata": {},
   "outputs": [
    {
     "data": {
      "text/plain": [
       "55"
      ]
     },
     "execution_count": 19,
     "metadata": {},
     "output_type": "execute_result"
    }
   ],
   "source": [
    "# add all the elements using sum method\n",
    "array_1.sum()"
   ]
  },
  {
   "cell_type": "code",
   "execution_count": 23,
   "id": "8826950f-dedb-4f3e-8913-61c6879b9d02",
   "metadata": {},
   "outputs": [
    {
     "data": {
      "text/plain": [
       "array([ 3,  7, 11, 15, 19])"
      ]
     },
     "execution_count": 23,
     "metadata": {},
     "output_type": "execute_result"
    }
   ],
   "source": [
    "# find sums by row\n",
    "array_1.sum(axis=1)"
   ]
  },
  {
   "cell_type": "code",
   "execution_count": 25,
   "id": "fd3c9c15-9036-468a-af1c-4b1e12d7cb0c",
   "metadata": {},
   "outputs": [
    {
     "data": {
      "text/plain": [
       "array([25, 30])"
      ]
     },
     "execution_count": 25,
     "metadata": {},
     "output_type": "execute_result"
    }
   ],
   "source": [
    "# find sums by column\n",
    "array_1.sum(axis=0)"
   ]
  },
  {
   "cell_type": "code",
   "execution_count": 26,
   "id": "4b14e69a-d84f-42d2-976c-ebddd51bf4db",
   "metadata": {},
   "outputs": [
    {
     "data": {
      "text/plain": [
       "array([5., 6.])"
      ]
     },
     "execution_count": 26,
     "metadata": {},
     "output_type": "execute_result"
    }
   ],
   "source": [
    "# mean of each column, the dtype will be np.float\n",
    "array_1.mean(axis= 0)"
   ]
  },
  {
   "cell_type": "code",
   "execution_count": null,
   "id": "3bb490a8-91f5-465a-96ba-db9ec65a8f66",
   "metadata": {},
   "outputs": [],
   "source": [
    "# element wise multiplication\n",
    "array_2= np.arange(10)\n",
    "array_2 * array_2"
   ]
  },
  {
   "cell_type": "code",
   "execution_count": null,
   "id": "458ba661-cdd8-40f1-9fa0-155d7786a5e2",
   "metadata": {},
   "outputs": [],
   "source": [
    "(array_2**2).reshape(5,2)"
   ]
  },
  {
   "cell_type": "markdown",
   "id": "bd0b80e5-8561-42d6-b9a5-5ac253ae3fd0",
   "metadata": {},
   "source": [
    "## NaN values\n",
    "- scikit-learn will not accept np.nan values\n",
    "- Either filter out the nans or set them to zero"
   ]
  },
  {
   "cell_type": "code",
   "execution_count": 27,
   "id": "19adb5b8-ee72-495a-9f69-2fee38e1324a",
   "metadata": {},
   "outputs": [
    {
     "data": {
      "text/plain": [
       "array([ True, False, False, False,  True])"
      ]
     },
     "execution_count": 27,
     "metadata": {},
     "output_type": "execute_result"
    }
   ],
   "source": [
    "array_3= np.array([np.nan, 0,1,2,np.nan])\n",
    "np.isnan(array_3)"
   ]
  },
  {
   "cell_type": "code",
   "execution_count": 28,
   "id": "167133a7-a10d-4587-aca4-bedc02319304",
   "metadata": {},
   "outputs": [
    {
     "data": {
      "text/plain": [
       "array([0., 1., 2.])"
      ]
     },
     "execution_count": 28,
     "metadata": {},
     "output_type": "execute_result"
    }
   ],
   "source": [
    "# filter NaN values using boolean array\n",
    "array_3[~np.isnan(array_3)]"
   ]
  },
  {
   "cell_type": "code",
   "execution_count": 29,
   "id": "a304ce04-bbad-41aa-99a5-28340fadda89",
   "metadata": {},
   "outputs": [
    {
     "data": {
      "text/plain": [
       "array([0., 0., 1., 2., 0.])"
      ]
     },
     "execution_count": 29,
     "metadata": {},
     "output_type": "execute_result"
    }
   ],
   "source": [
    "# set NaN values to zero\n",
    "array_3[np.isnan(array_3)]= 0\n",
    "array_3"
   ]
  },
  {
   "cell_type": "code",
   "execution_count": null,
   "id": "6450727d-4a8d-4859-87b4-a89b16a49a0b",
   "metadata": {},
   "outputs": [],
   "source": []
  }
 ],
 "metadata": {
  "kernelspec": {
   "display_name": "venv_ml",
   "language": "python",
   "name": "venv_ml"
  },
  "language_info": {
   "codemirror_mode": {
    "name": "ipython",
    "version": 3
   },
   "file_extension": ".py",
   "mimetype": "text/x-python",
   "name": "python",
   "nbconvert_exporter": "python",
   "pygments_lexer": "ipython3",
   "version": "3.8.8"
  }
 },
 "nbformat": 4,
 "nbformat_minor": 5
}
