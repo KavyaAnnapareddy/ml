{
 "cells": [
  {
   "cell_type": "markdown",
   "id": "a9bcc599-73f1-45f3-ac7b-ab1f05940ef4",
   "metadata": {},
   "source": [
    "# IRIS DATASET\n",
    "The iris datset pertains to a supervised classification problem\n",
    "- because it has target array -> supervised\n",
    "- three number we can predit from -> classification problem , multi-class\n",
    "\n",
    "Note: the simplest case is binary classification. \n",
    "\n",
    "The task of supervised learning involves predicting values of an output variable with a model that trains using input and output variable"
   ]
  },
  {
   "cell_type": "code",
   "execution_count": 153,
   "id": "8f13c01c-6b02-48a4-ad85-5d3b10492bcd",
   "metadata": {},
   "outputs": [],
   "source": [
    "import numpy as np\n",
    "import pandas as pd\n",
    "import matplotlib.pyplot as plt\n",
    "%matplotlib inline"
   ]
  },
  {
   "cell_type": "code",
   "execution_count": 154,
   "id": "38939de2-c6cf-43cf-ab31-c667ba346165",
   "metadata": {},
   "outputs": [],
   "source": [
    "# Loading iris dataset\n",
    "from sklearn import datasets\n",
    "iris= datasets.load_iris()"
   ]
  },
  {
   "cell_type": "code",
   "execution_count": 155,
   "id": "0da75b96-a539-4e87-b372-16f82d6d6cea",
   "metadata": {},
   "outputs": [
    {
     "data": {
      "text/plain": [
       "datasets.load_breast_cancer\n",
       "datasets.load_diabetes\n",
       "datasets.load_digits\n",
       "datasets.load_files\n",
       "datasets.load_iris\n",
       "datasets.load_linnerud\n",
       "datasets.load_sample_image\n",
       "datasets.load_sample_images\n",
       "datasets.load_svmlight_file\n",
       "datasets.load_svmlight_files\n",
       "datasets.load_wine"
      ]
     },
     "metadata": {},
     "output_type": "display_data"
    }
   ],
   "source": [
    "# to check which datasets are available\n",
    "datasets.load_*?"
   ]
  },
  {
   "cell_type": "code",
   "execution_count": 156,
   "id": "f6075134-8a9b-4850-a729-51aa59b209b0",
   "metadata": {},
   "outputs": [
    {
     "name": "stdout",
     "output_type": "stream",
     "text": [
      ".. _iris_dataset:\n",
      "\n",
      "Iris plants dataset\n",
      "--------------------\n",
      "\n",
      "**Data Set Characteristics:**\n",
      "\n",
      "    :Number of Instances: 150 (50 in each of three classes)\n",
      "    :Number of Attributes: 4 numeric, predictive attributes and the class\n",
      "    :Attribute Information:\n",
      "        - sepal length in cm\n",
      "        - sepal width in cm\n",
      "        - petal length in cm\n",
      "        - petal width in cm\n",
      "        - class:\n",
      "                - Iris-Setosa\n",
      "                - Iris-Versicolour\n",
      "                - Iris-Virginica\n",
      "                \n",
      "    :Summary Statistics:\n",
      "\n",
      "    ============== ==== ==== ======= ===== ====================\n",
      "                    Min  Max   Mean    SD   Class Correlation\n",
      "    ============== ==== ==== ======= ===== ====================\n",
      "    sepal length:   4.3  7.9   5.84   0.83    0.7826\n",
      "    sepal width:    2.0  4.4   3.05   0.43   -0.4194\n",
      "    petal length:   1.0  6.9   3.76   1.76    0.9490  (high!)\n",
      "    petal width:    0.1  2.5   1.20   0.76    0.9565  (high!)\n",
      "    ============== ==== ==== ======= ===== ====================\n",
      "\n",
      "    :Missing Attribute Values: None\n",
      "    :Class Distribution: 33.3% for each of 3 classes.\n",
      "    :Creator: R.A. Fisher\n",
      "    :Donor: Michael Marshall (MARSHALL%PLU@io.arc.nasa.gov)\n",
      "    :Date: July, 1988\n",
      "\n",
      "The famous Iris database, first used by Sir R.A. Fisher. The dataset is taken\n",
      "from Fisher's paper. Note that it's the same as in R, but not as in the UCI\n",
      "Machine Learning Repository, which has two wrong data points.\n",
      "\n",
      "This is perhaps the best known database to be found in the\n",
      "pattern recognition literature.  Fisher's paper is a classic in the field and\n",
      "is referenced frequently to this day.  (See Duda & Hart, for example.)  The\n",
      "data set contains 3 classes of 50 instances each, where each class refers to a\n",
      "type of iris plant.  One class is linearly separable from the other 2; the\n",
      "latter are NOT linearly separable from each other.\n",
      "\n",
      ".. topic:: References\n",
      "\n",
      "   - Fisher, R.A. \"The use of multiple measurements in taxonomic problems\"\n",
      "     Annual Eugenics, 7, Part II, 179-188 (1936); also in \"Contributions to\n",
      "     Mathematical Statistics\" (John Wiley, NY, 1950).\n",
      "   - Duda, R.O., & Hart, P.E. (1973) Pattern Classification and Scene Analysis.\n",
      "     (Q327.D83) John Wiley & Sons.  ISBN 0-471-22361-1.  See page 218.\n",
      "   - Dasarathy, B.V. (1980) \"Nosing Around the Neighborhood: A New System\n",
      "     Structure and Classification Rule for Recognition in Partially Exposed\n",
      "     Environments\".  IEEE Transactions on Pattern Analysis and Machine\n",
      "     Intelligence, Vol. PAMI-2, No. 1, 67-71.\n",
      "   - Gates, G.W. (1972) \"The Reduced Nearest Neighbor Rule\".  IEEE Transactions\n",
      "     on Information Theory, May 1972, 431-433.\n",
      "   - See also: 1988 MLC Proceedings, 54-64.  Cheeseman et al\"s AUTOCLASS II\n",
      "     conceptual clustering system finds 3 classes in the data.\n",
      "   - Many, many more ...\n"
     ]
    }
   ],
   "source": [
    "# to view information about the dataset\n",
    "print(iris.DESCR)"
   ]
  },
  {
   "cell_type": "code",
   "execution_count": 157,
   "id": "37914968-61b9-45e7-af01-4ccb475ee10d",
   "metadata": {},
   "outputs": [
    {
     "data": {
      "text/plain": [
       "array([[5.1, 3.5, 1.4, 0.2],\n",
       "       [4.9, 3. , 1.4, 0.2],\n",
       "       [4.7, 3.2, 1.3, 0.2],\n",
       "       [4.6, 3.1, 1.5, 0.2],\n",
       "       [5. , 3.6, 1.4, 0.2],\n",
       "       [5.4, 3.9, 1.7, 0.4],\n",
       "       [4.6, 3.4, 1.4, 0.3],\n",
       "       [5. , 3.4, 1.5, 0.2],\n",
       "       [4.4, 2.9, 1.4, 0.2],\n",
       "       [4.9, 3.1, 1.5, 0.1],\n",
       "       [5.4, 3.7, 1.5, 0.2],\n",
       "       [4.8, 3.4, 1.6, 0.2],\n",
       "       [4.8, 3. , 1.4, 0.1],\n",
       "       [4.3, 3. , 1.1, 0.1],\n",
       "       [5.8, 4. , 1.2, 0.2],\n",
       "       [5.7, 4.4, 1.5, 0.4],\n",
       "       [5.4, 3.9, 1.3, 0.4],\n",
       "       [5.1, 3.5, 1.4, 0.3],\n",
       "       [5.7, 3.8, 1.7, 0.3],\n",
       "       [5.1, 3.8, 1.5, 0.3],\n",
       "       [5.4, 3.4, 1.7, 0.2],\n",
       "       [5.1, 3.7, 1.5, 0.4],\n",
       "       [4.6, 3.6, 1. , 0.2],\n",
       "       [5.1, 3.3, 1.7, 0.5],\n",
       "       [4.8, 3.4, 1.9, 0.2],\n",
       "       [5. , 3. , 1.6, 0.2],\n",
       "       [5. , 3.4, 1.6, 0.4],\n",
       "       [5.2, 3.5, 1.5, 0.2],\n",
       "       [5.2, 3.4, 1.4, 0.2],\n",
       "       [4.7, 3.2, 1.6, 0.2],\n",
       "       [4.8, 3.1, 1.6, 0.2],\n",
       "       [5.4, 3.4, 1.5, 0.4],\n",
       "       [5.2, 4.1, 1.5, 0.1],\n",
       "       [5.5, 4.2, 1.4, 0.2],\n",
       "       [4.9, 3.1, 1.5, 0.2],\n",
       "       [5. , 3.2, 1.2, 0.2],\n",
       "       [5.5, 3.5, 1.3, 0.2],\n",
       "       [4.9, 3.6, 1.4, 0.1],\n",
       "       [4.4, 3. , 1.3, 0.2],\n",
       "       [5.1, 3.4, 1.5, 0.2],\n",
       "       [5. , 3.5, 1.3, 0.3],\n",
       "       [4.5, 2.3, 1.3, 0.3],\n",
       "       [4.4, 3.2, 1.3, 0.2],\n",
       "       [5. , 3.5, 1.6, 0.6],\n",
       "       [5.1, 3.8, 1.9, 0.4],\n",
       "       [4.8, 3. , 1.4, 0.3],\n",
       "       [5.1, 3.8, 1.6, 0.2],\n",
       "       [4.6, 3.2, 1.4, 0.2],\n",
       "       [5.3, 3.7, 1.5, 0.2],\n",
       "       [5. , 3.3, 1.4, 0.2],\n",
       "       [7. , 3.2, 4.7, 1.4],\n",
       "       [6.4, 3.2, 4.5, 1.5],\n",
       "       [6.9, 3.1, 4.9, 1.5],\n",
       "       [5.5, 2.3, 4. , 1.3],\n",
       "       [6.5, 2.8, 4.6, 1.5],\n",
       "       [5.7, 2.8, 4.5, 1.3],\n",
       "       [6.3, 3.3, 4.7, 1.6],\n",
       "       [4.9, 2.4, 3.3, 1. ],\n",
       "       [6.6, 2.9, 4.6, 1.3],\n",
       "       [5.2, 2.7, 3.9, 1.4],\n",
       "       [5. , 2. , 3.5, 1. ],\n",
       "       [5.9, 3. , 4.2, 1.5],\n",
       "       [6. , 2.2, 4. , 1. ],\n",
       "       [6.1, 2.9, 4.7, 1.4],\n",
       "       [5.6, 2.9, 3.6, 1.3],\n",
       "       [6.7, 3.1, 4.4, 1.4],\n",
       "       [5.6, 3. , 4.5, 1.5],\n",
       "       [5.8, 2.7, 4.1, 1. ],\n",
       "       [6.2, 2.2, 4.5, 1.5],\n",
       "       [5.6, 2.5, 3.9, 1.1],\n",
       "       [5.9, 3.2, 4.8, 1.8],\n",
       "       [6.1, 2.8, 4. , 1.3],\n",
       "       [6.3, 2.5, 4.9, 1.5],\n",
       "       [6.1, 2.8, 4.7, 1.2],\n",
       "       [6.4, 2.9, 4.3, 1.3],\n",
       "       [6.6, 3. , 4.4, 1.4],\n",
       "       [6.8, 2.8, 4.8, 1.4],\n",
       "       [6.7, 3. , 5. , 1.7],\n",
       "       [6. , 2.9, 4.5, 1.5],\n",
       "       [5.7, 2.6, 3.5, 1. ],\n",
       "       [5.5, 2.4, 3.8, 1.1],\n",
       "       [5.5, 2.4, 3.7, 1. ],\n",
       "       [5.8, 2.7, 3.9, 1.2],\n",
       "       [6. , 2.7, 5.1, 1.6],\n",
       "       [5.4, 3. , 4.5, 1.5],\n",
       "       [6. , 3.4, 4.5, 1.6],\n",
       "       [6.7, 3.1, 4.7, 1.5],\n",
       "       [6.3, 2.3, 4.4, 1.3],\n",
       "       [5.6, 3. , 4.1, 1.3],\n",
       "       [5.5, 2.5, 4. , 1.3],\n",
       "       [5.5, 2.6, 4.4, 1.2],\n",
       "       [6.1, 3. , 4.6, 1.4],\n",
       "       [5.8, 2.6, 4. , 1.2],\n",
       "       [5. , 2.3, 3.3, 1. ],\n",
       "       [5.6, 2.7, 4.2, 1.3],\n",
       "       [5.7, 3. , 4.2, 1.2],\n",
       "       [5.7, 2.9, 4.2, 1.3],\n",
       "       [6.2, 2.9, 4.3, 1.3],\n",
       "       [5.1, 2.5, 3. , 1.1],\n",
       "       [5.7, 2.8, 4.1, 1.3],\n",
       "       [6.3, 3.3, 6. , 2.5],\n",
       "       [5.8, 2.7, 5.1, 1.9],\n",
       "       [7.1, 3. , 5.9, 2.1],\n",
       "       [6.3, 2.9, 5.6, 1.8],\n",
       "       [6.5, 3. , 5.8, 2.2],\n",
       "       [7.6, 3. , 6.6, 2.1],\n",
       "       [4.9, 2.5, 4.5, 1.7],\n",
       "       [7.3, 2.9, 6.3, 1.8],\n",
       "       [6.7, 2.5, 5.8, 1.8],\n",
       "       [7.2, 3.6, 6.1, 2.5],\n",
       "       [6.5, 3.2, 5.1, 2. ],\n",
       "       [6.4, 2.7, 5.3, 1.9],\n",
       "       [6.8, 3. , 5.5, 2.1],\n",
       "       [5.7, 2.5, 5. , 2. ],\n",
       "       [5.8, 2.8, 5.1, 2.4],\n",
       "       [6.4, 3.2, 5.3, 2.3],\n",
       "       [6.5, 3. , 5.5, 1.8],\n",
       "       [7.7, 3.8, 6.7, 2.2],\n",
       "       [7.7, 2.6, 6.9, 2.3],\n",
       "       [6. , 2.2, 5. , 1.5],\n",
       "       [6.9, 3.2, 5.7, 2.3],\n",
       "       [5.6, 2.8, 4.9, 2. ],\n",
       "       [7.7, 2.8, 6.7, 2. ],\n",
       "       [6.3, 2.7, 4.9, 1.8],\n",
       "       [6.7, 3.3, 5.7, 2.1],\n",
       "       [7.2, 3.2, 6. , 1.8],\n",
       "       [6.2, 2.8, 4.8, 1.8],\n",
       "       [6.1, 3. , 4.9, 1.8],\n",
       "       [6.4, 2.8, 5.6, 2.1],\n",
       "       [7.2, 3. , 5.8, 1.6],\n",
       "       [7.4, 2.8, 6.1, 1.9],\n",
       "       [7.9, 3.8, 6.4, 2. ],\n",
       "       [6.4, 2.8, 5.6, 2.2],\n",
       "       [6.3, 2.8, 5.1, 1.5],\n",
       "       [6.1, 2.6, 5.6, 1.4],\n",
       "       [7.7, 3. , 6.1, 2.3],\n",
       "       [6.3, 3.4, 5.6, 2.4],\n",
       "       [6.4, 3.1, 5.5, 1.8],\n",
       "       [6. , 3. , 4.8, 1.8],\n",
       "       [6.9, 3.1, 5.4, 2.1],\n",
       "       [6.7, 3.1, 5.6, 2.4],\n",
       "       [6.9, 3.1, 5.1, 2.3],\n",
       "       [5.8, 2.7, 5.1, 1.9],\n",
       "       [6.8, 3.2, 5.9, 2.3],\n",
       "       [6.7, 3.3, 5.7, 2.5],\n",
       "       [6.7, 3. , 5.2, 2.3],\n",
       "       [6.3, 2.5, 5. , 1.9],\n",
       "       [6.5, 3. , 5.2, 2. ],\n",
       "       [6.2, 3.4, 5.4, 2.3],\n",
       "       [5.9, 3. , 5.1, 1.8]])"
      ]
     },
     "execution_count": 157,
     "metadata": {},
     "output_type": "execute_result"
    }
   ],
   "source": [
    "# viewing dataset\n",
    "# the obersevations are in cm\n",
    "iris.data"
   ]
  },
  {
   "cell_type": "code",
   "execution_count": 158,
   "id": "a564f579-1cec-4e1d-94ba-1d0fdb263eff",
   "metadata": {},
   "outputs": [
    {
     "data": {
      "text/plain": [
       "(150, 4)"
      ]
     },
     "execution_count": 158,
     "metadata": {},
     "output_type": "execute_result"
    }
   ],
   "source": [
    "# examine the numpy array\n",
    "iris.data.shape"
   ]
  },
  {
   "cell_type": "code",
   "execution_count": 159,
   "id": "7be8bad8-5d19-4e40-966b-8dc00a6431ad",
   "metadata": {},
   "outputs": [
    {
     "data": {
      "text/plain": [
       "array([5.1, 3.5, 1.4, 0.2])"
      ]
     },
     "execution_count": 159,
     "metadata": {},
     "output_type": "execute_result"
    }
   ],
   "source": [
    "# look at first row\n",
    "iris.data[0]"
   ]
  },
  {
   "cell_type": "code",
   "execution_count": 160,
   "id": "f908d673-c79f-4641-8849-15ac30bee4eb",
   "metadata": {},
   "outputs": [
    {
     "data": {
      "text/plain": [
       "['sepal length (cm)',\n",
       " 'sepal width (cm)',\n",
       " 'petal length (cm)',\n",
       " 'petal width (cm)']"
      ]
     },
     "execution_count": 160,
     "metadata": {},
     "output_type": "execute_result"
    }
   ],
   "source": [
    "# it has 4 columns- what the data means \n",
    "iris.feature_names"
   ]
  },
  {
   "cell_type": "code",
   "execution_count": 161,
   "id": "c32b3b65-7324-4478-b0d6-aed2b476887c",
   "metadata": {},
   "outputs": [
    {
     "data": {
      "text/plain": [
       "array([0, 0, 0, 0, 0, 0, 0, 0, 0, 0, 0, 0, 0, 0, 0, 0, 0, 0, 0, 0, 0, 0,\n",
       "       0, 0, 0, 0, 0, 0, 0, 0, 0, 0, 0, 0, 0, 0, 0, 0, 0, 0, 0, 0, 0, 0,\n",
       "       0, 0, 0, 0, 0, 0, 1, 1, 1, 1, 1, 1, 1, 1, 1, 1, 1, 1, 1, 1, 1, 1,\n",
       "       1, 1, 1, 1, 1, 1, 1, 1, 1, 1, 1, 1, 1, 1, 1, 1, 1, 1, 1, 1, 1, 1,\n",
       "       1, 1, 1, 1, 1, 1, 1, 1, 1, 1, 1, 1, 2, 2, 2, 2, 2, 2, 2, 2, 2, 2,\n",
       "       2, 2, 2, 2, 2, 2, 2, 2, 2, 2, 2, 2, 2, 2, 2, 2, 2, 2, 2, 2, 2, 2,\n",
       "       2, 2, 2, 2, 2, 2, 2, 2, 2, 2, 2, 2, 2, 2, 2, 2, 2, 2])"
      ]
     },
     "execution_count": 161,
     "metadata": {},
     "output_type": "execute_result"
    }
   ],
   "source": [
    "# output variable\n",
    "iris.target"
   ]
  },
  {
   "cell_type": "code",
   "execution_count": 162,
   "id": "e48d5c38-08ee-44af-bd0b-13f80d1d131b",
   "metadata": {},
   "outputs": [
    {
     "data": {
      "text/plain": [
       "(150,)"
      ]
     },
     "execution_count": 162,
     "metadata": {},
     "output_type": "execute_result"
    }
   ],
   "source": [
    "iris.target.shape"
   ]
  },
  {
   "cell_type": "code",
   "execution_count": 163,
   "id": "f05b37aa-db9a-4d70-8cef-c8ac3982f7a6",
   "metadata": {},
   "outputs": [
    {
     "data": {
      "text/plain": [
       "array(['setosa', 'versicolor', 'virginica'], dtype='<U10')"
      ]
     },
     "execution_count": 163,
     "metadata": {},
     "output_type": "execute_result"
    }
   ],
   "source": [
    "iris.target_names"
   ]
  },
  {
   "cell_type": "code",
   "execution_count": 164,
   "id": "f17db0b8-d860-4be1-9f2d-b0184346891f",
   "metadata": {},
   "outputs": [
    {
     "data": {
      "text/plain": [
       "0"
      ]
     },
     "execution_count": 164,
     "metadata": {},
     "output_type": "execute_result"
    }
   ],
   "source": [
    "iris.target[0]"
   ]
  },
  {
   "cell_type": "code",
   "execution_count": 165,
   "id": "06e59d55-11f3-4373-96c5-f16779df8a91",
   "metadata": {},
   "outputs": [
    {
     "data": {
      "text/html": [
       "<div>\n",
       "<style scoped>\n",
       "    .dataframe tbody tr th:only-of-type {\n",
       "        vertical-align: middle;\n",
       "    }\n",
       "\n",
       "    .dataframe tbody tr th {\n",
       "        vertical-align: top;\n",
       "    }\n",
       "\n",
       "    .dataframe thead th {\n",
       "        text-align: right;\n",
       "    }\n",
       "</style>\n",
       "<table border=\"1\" class=\"dataframe\">\n",
       "  <thead>\n",
       "    <tr style=\"text-align: right;\">\n",
       "      <th></th>\n",
       "      <th>sepal length (cm)</th>\n",
       "      <th>sepal width (cm)</th>\n",
       "      <th>petal length (cm)</th>\n",
       "      <th>petal width (cm)</th>\n",
       "    </tr>\n",
       "  </thead>\n",
       "  <tbody>\n",
       "    <tr>\n",
       "      <th>0</th>\n",
       "      <td>5.1</td>\n",
       "      <td>3.5</td>\n",
       "      <td>1.4</td>\n",
       "      <td>0.2</td>\n",
       "    </tr>\n",
       "    <tr>\n",
       "      <th>1</th>\n",
       "      <td>4.9</td>\n",
       "      <td>3.0</td>\n",
       "      <td>1.4</td>\n",
       "      <td>0.2</td>\n",
       "    </tr>\n",
       "    <tr>\n",
       "      <th>2</th>\n",
       "      <td>4.7</td>\n",
       "      <td>3.2</td>\n",
       "      <td>1.3</td>\n",
       "      <td>0.2</td>\n",
       "    </tr>\n",
       "    <tr>\n",
       "      <th>3</th>\n",
       "      <td>4.6</td>\n",
       "      <td>3.1</td>\n",
       "      <td>1.5</td>\n",
       "      <td>0.2</td>\n",
       "    </tr>\n",
       "    <tr>\n",
       "      <th>4</th>\n",
       "      <td>5.0</td>\n",
       "      <td>3.6</td>\n",
       "      <td>1.4</td>\n",
       "      <td>0.2</td>\n",
       "    </tr>\n",
       "  </tbody>\n",
       "</table>\n",
       "</div>"
      ],
      "text/plain": [
       "   sepal length (cm)  sepal width (cm)  petal length (cm)  petal width (cm)\n",
       "0                5.1               3.5                1.4               0.2\n",
       "1                4.9               3.0                1.4               0.2\n",
       "2                4.7               3.2                1.3               0.2\n",
       "3                4.6               3.1                1.5               0.2\n",
       "4                5.0               3.6                1.4               0.2"
      ]
     },
     "execution_count": 165,
     "metadata": {},
     "output_type": "execute_result"
    }
   ],
   "source": [
    "# Viewing iris dataset with Pandas\n",
    "# create a df with observation and column names\n",
    "iris_df= pd.DataFrame(data= iris.data, columns= iris.feature_names)\n",
    "iris_df.head()"
   ]
  },
  {
   "cell_type": "code",
   "execution_count": 166,
   "id": "01c2aec6-3dee-40f6-b251-c4b224e9ad36",
   "metadata": {},
   "outputs": [
    {
     "data": {
      "text/plain": [
       "<Axes: >"
      ]
     },
     "execution_count": 166,
     "metadata": {},
     "output_type": "execute_result"
    },
    {
     "data": {
      "image/png": "[encoded data removed]",
      "text/plain": [
       "<Figure size 640x480 with 1 Axes>"
      ]
     },
     "metadata": {},
     "output_type": "display_data"
    }
   ],
   "source": [
    "# quick look at histogram\n",
    "iris_df['sepal length (cm)'].hist(bins=30)"
   ]
  },
  {
   "cell_type": "code",
   "execution_count": 167,
   "id": "7882fdc2-2c6d-4c9d-987c-22794849f397",
   "metadata": {},
   "outputs": [
    {
     "data": {
      "image/png": "[encoded data removed]",
      "text/plain": [
       "<Figure size 640x480 with 1 Axes>"
      ]
     },
     "metadata": {},
     "output_type": "display_data"
    }
   ],
   "source": [
    "# color the histogram by the target variable in one figure\n",
    "for class_number in np.unique(iris.target):\n",
    "    plt.figure(1)\n",
    "    iris_df['sepal length (cm)'].iloc[np.where(\n",
    "        iris.target==class_number)[0]].hist(bins=30)\n",
    "    "
   ]
  },
  {
   "cell_type": "markdown",
   "id": "a60d5c37-1071-4b52-8ff0-bea00c2b0bc7",
   "metadata": {},
   "source": [
    "### Points to Note:\n",
    "- the histograms overlap\n",
    "- 3 histograms as 3 normal distributions\n",
    "- model training data as 3 normal distributions, use test set to test the three normal distribution models we made up\n",
    "- finally, test accuracy of predictions on test set"
   ]
  },
  {
   "cell_type": "code",
   "execution_count": 168,
   "id": "9f638365-d4cd-47d7-8e4a-8cb2bf2cdd7a",
   "metadata": {},
   "outputs": [
    {
     "data": {
      "text/plain": [
       "<matplotlib.collections.PathCollection at 0x7fa8ab1c0e50>"
      ]
     },
     "execution_count": 168,
     "metadata": {},
     "output_type": "execute_result"
    },
    {
     "data": {
      "image/png": "[encoded data removed]",
      "text/plain": [
       "<Figure size 1200x500 with 2 Axes>"
      ]
     },
     "metadata": {},
     "output_type": "display_data"
    }
   ],
   "source": [
    "# plot data\n",
    "\n",
    "#load data\n",
    "data= iris.data\n",
    "target = iris.target\n",
    "\n",
    "# resize the figure for better viewing\n",
    "plt.figure(figsize=(12,5))\n",
    "\n",
    "# first subplot\n",
    "plt.subplot(121)\n",
    "# visualize the first two columns of data\n",
    "# c parameter takes an array of colors\n",
    "plt.scatter(data[:,0], data[:,1], c= target)\n",
    "\n",
    "# second subplot\n",
    "plt.subplot(122)\n",
    "# visualize last columns of data\n",
    "plt.scatter(data[:,2], data[:,3], c= target)"
   ]
  },
  {
   "cell_type": "markdown",
   "id": "4935c1ba-730b-446c-9411-f43ed15f913f",
   "metadata": {},
   "source": [
    "### SVM Classification\n",
    "\n",
    "Getting ready\n",
    "store features as X and target as Y\n",
    "\n",
    "STEPS:\n",
    "1. state the problem- determine the flower-type category form a new set of oberservations. Classification. data vaialble includes a target variable. Supervised classification problem\n",
    "2. choose a model to solve supervised classification - use support verctor classifier. why? beacuse of its simplicity and interpretability\n",
    "3. train the model\n",
    "4. make predictions\n",
    "5. measure the performace of prediction- split data into train and test. (train_test_split from sklearn.model_selection)"
   ]
  },
  {
   "cell_type": "code",
   "execution_count": 169,
   "id": "2a71b599-c5f9-4073-853b-a39a76e23a62",
   "metadata": {},
   "outputs": [],
   "source": [
    "# store features as X and target as Y\n",
    "X= iris.data[:,:2]\n",
    "y= iris.target"
   ]
  },
  {
   "cell_type": "code",
   "execution_count": 170,
   "id": "b823acd1-beba-46e4-9f73-3e2964944d45",
   "metadata": {},
   "outputs": [],
   "source": [
    "# split data into train and test\n",
    "# removed random_state in train, test \n",
    "from sklearn.model_selection import train_test_split\n",
    "X_train, X_test, y_train, y_test = train_test_split(\n",
    "    X,y, test_size= 0.25)"
   ]
  },
  {
   "cell_type": "code",
   "execution_count": 171,
   "id": "a74531a9-0897-4bb1-a0a9-918ebb9f42ee",
   "metadata": {},
   "outputs": [],
   "source": [
    "# load estimator - support vector machine\n",
    "from sklearn.svm import SVC\n",
    "# create an instance of linear SVC\n",
    "clf= SVC(kernel = 'linear', random_state= 42)"
   ]
  },
  {
   "cell_type": "code",
   "execution_count": 172,
   "id": "8b2788d1-2e59-46b4-aa31-2166181dc187",
   "metadata": {},
   "outputs": [
    {
     "data": {
      "text/html": [
       "<style>#sk-container-id-8 {color: black;background-color: white;}#sk-container-id-8 pre{padding: 0;}#sk-container-id-8 div.sk-toggleable {background-color: white;}#sk-container-id-8 label.sk-toggleable__label {cursor: pointer;display: block;width: 100%;margin-bottom: 0;padding: 0.3em;box-sizing: border-box;text-align: center;}#sk-container-id-8 label.sk-toggleable__label-arrow:before {content: \"▸\";float: left;margin-right: 0.25em;color: #696969;}#sk-container-id-8 label.sk-toggleable__label-arrow:hover:before {color: black;}#sk-container-id-8 div.sk-estimator:hover label.sk-toggleable__label-arrow:before {color: black;}#sk-container-id-8 div.sk-toggleable__content {max-height: 0;max-width: 0;overflow: hidden;text-align: left;background-color: #f0f8ff;}#sk-container-id-8 div.sk-toggleable__content pre {margin: 0.2em;color: black;border-radius: 0.25em;background-color: #f0f8ff;}#sk-container-id-8 input.sk-toggleable__control:checked~div.sk-toggleable__content {max-height: 200px;max-width: 100%;overflow: auto;}#sk-container-id-8 input.sk-toggleable__control:checked~label.sk-toggleable__label-arrow:before {content: \"▾\";}#sk-container-id-8 div.sk-estimator input.sk-toggleable__control:checked~label.sk-toggleable__label {background-color: #d4ebff;}#sk-container-id-8 div.sk-label input.sk-toggleable__control:checked~label.sk-toggleable__label {background-color: #d4ebff;}#sk-container-id-8 input.sk-hidden--visually {border: 0;clip: rect(1px 1px 1px 1px);clip: rect(1px, 1px, 1px, 1px);height: 1px;margin: -1px;overflow: hidden;padding: 0;position: absolute;width: 1px;}#sk-container-id-8 div.sk-estimator {font-family: monospace;background-color: #f0f8ff;border: 1px dotted black;border-radius: 0.25em;box-sizing: border-box;margin-bottom: 0.5em;}#sk-container-id-8 div.sk-estimator:hover {background-color: #d4ebff;}#sk-container-id-8 div.sk-parallel-item::after {content: \"\";width: 100%;border-bottom: 1px solid gray;flex-grow: 1;}#sk-container-id-8 div.sk-label:hover label.sk-toggleable__label {background-color: #d4ebff;}#sk-container-id-8 div.sk-serial::before {content: \"\";position: absolute;border-left: 1px solid gray;box-sizing: border-box;top: 0;bottom: 0;left: 50%;z-index: 0;}#sk-container-id-8 div.sk-serial {display: flex;flex-direction: column;align-items: center;background-color: white;padding-right: 0.2em;padding-left: 0.2em;position: relative;}#sk-container-id-8 div.sk-item {position: relative;z-index: 1;}#sk-container-id-8 div.sk-parallel {display: flex;align-items: stretch;justify-content: center;background-color: white;position: relative;}#sk-container-id-8 div.sk-item::before, #sk-container-id-8 div.sk-parallel-item::before {content: \"\";position: absolute;border-left: 1px solid gray;box-sizing: border-box;top: 0;bottom: 0;left: 50%;z-index: -1;}#sk-container-id-8 div.sk-parallel-item {display: flex;flex-direction: column;z-index: 1;position: relative;background-color: white;}#sk-container-id-8 div.sk-parallel-item:first-child::after {align-self: flex-end;width: 50%;}#sk-container-id-8 div.sk-parallel-item:last-child::after {align-self: flex-start;width: 50%;}#sk-container-id-8 div.sk-parallel-item:only-child::after {width: 0;}#sk-container-id-8 div.sk-dashed-wrapped {border: 1px dashed gray;margin: 0 0.4em 0.5em 0.4em;box-sizing: border-box;padding-bottom: 0.4em;background-color: white;}#sk-container-id-8 div.sk-label label {font-family: monospace;font-weight: bold;display: inline-block;line-height: 1.2em;}#sk-container-id-8 div.sk-label-container {text-align: center;}#sk-container-id-8 div.sk-container {/* jupyter's `normalize.less` sets `[hidden] { display: none; }` but bootstrap.min.css set `[hidden] { display: none !important; }` so we also need the `!important` here to be able to override the default hidden behavior on the sphinx rendered scikit-learn.org. See: https://github.com/scikit-learn/scikit-learn/issues/21755 */display: inline-block !important;position: relative;}#sk-container-id-8 div.sk-text-repr-fallback {display: none;}</style><div id=\"sk-container-id-8\" class=\"sk-top-container\"><div class=\"sk-text-repr-fallback\"><pre>SVC(kernel=&#x27;linear&#x27;, random_state=42)</pre><b>In a Jupyter environment, please rerun this cell to show the HTML representation or trust the notebook. <br />On GitHub, the HTML representation is unable to render, please try loading this page with nbviewer.org.</b></div><div class=\"sk-container\" hidden><div class=\"sk-item\"><div class=\"sk-estimator sk-toggleable\"><input class=\"sk-toggleable__control sk-hidden--visually\" id=\"sk-estimator-id-8\" type=\"checkbox\" checked><label for=\"sk-estimator-id-8\" class=\"sk-toggleable__label sk-toggleable__label-arrow\">SVC</label><div class=\"sk-toggleable__content\"><pre>SVC(kernel=&#x27;linear&#x27;, random_state=42)</pre></div></div></div></div></div>"
      ],
      "text/plain": [
       "SVC(kernel='linear', random_state=42)"
      ]
     },
     "execution_count": 172,
     "metadata": {},
     "output_type": "execute_result"
    }
   ],
   "source": [
    "# fit model on training data\n",
    "clf.fit(X_train, y_train)"
   ]
  },
  {
   "cell_type": "code",
   "execution_count": 173,
   "id": "8f53487c-e162-4298-b2f8-974e0484f1cd",
   "metadata": {},
   "outputs": [],
   "source": [
    "# moefl returns predictions\n",
    "y_pred= clf.predict(X_test)"
   ]
  },
  {
   "cell_type": "code",
   "execution_count": 174,
   "id": "eb854d64-fbda-4bc2-81fe-949e1db6dc09",
   "metadata": {},
   "outputs": [
    {
     "data": {
      "text/plain": [
       "0.7894736842105263"
      ]
     },
     "execution_count": 174,
     "metadata": {},
     "output_type": "execute_result"
    }
   ],
   "source": [
    "# examine model performace\n",
    "from sklearn.metrics import accuracy_score\n",
    "# with scorer , compare the prediction with y_test\n",
    "accuracy_score(y_test, y_pred)"
   ]
  },
  {
   "cell_type": "markdown",
   "id": "ca0285c2-9617-45ea-af82-c5dac90a9558",
   "metadata": {},
   "source": [
    "### Logistic regression"
   ]
  },
  {
   "cell_type": "code",
   "execution_count": 175,
   "id": "181e9681-9f9b-406e-a9e8-8086e25383b2",
   "metadata": {},
   "outputs": [
    {
     "data": {
      "text/plain": [
       "0.7105263157894737"
      ]
     },
     "execution_count": 175,
     "metadata": {},
     "output_type": "execute_result"
    }
   ],
   "source": [
    "# store features as X and target as Y\n",
    "X= iris.data[:,:2]\n",
    "y= iris.target\n",
    "\n",
    "# split data into train and test\n",
    "# removed random_state in train, test \n",
    "from sklearn.model_selection import train_test_split\n",
    "X_train, X_test, y_train, y_test = train_test_split(\n",
    "    X,y, test_size= 0.25)\n",
    "\n",
    "# import model\n",
    "from sklearn.linear_model import LogisticRegression\n",
    "\n",
    "# train the model\n",
    "clf= LogisticRegression(random_state=2)\n",
    "clf.fit(X_train, y_train)\n",
    "\n",
    "# predict with Logistic regression\n",
    "y_pred= clf.predict(X_test)\n",
    "\n",
    "# examine model accuracy\n",
    "accuracy_score(y_test, y_pred)"
   ]
  },
  {
   "cell_type": "markdown",
   "id": "0d2bc49a-c2ed-4497-a971-92d26f6c7ca7",
   "metadata": {},
   "source": [
    "We cannot compare accuracy scores as otherwise, it would be part of the model. Instead, cross-validation is the way to go. Split the trainin set into part and rotate the test set "
   ]
  },
  {
   "cell_type": "code",
   "execution_count": 176,
   "id": "d29afec5-8d9c-4876-952b-7a1b9e5db5c5",
   "metadata": {},
   "outputs": [
    {
     "data": {
      "text/plain": [
       "array([0.91666667, 0.58333333, 0.81818182, 0.72727273, 0.90909091,\n",
       "       0.81818182, 0.81818182, 0.90909091, 0.90909091, 0.72727273])"
      ]
     },
     "execution_count": 176,
     "metadata": {},
     "output_type": "execute_result"
    }
   ],
   "source": [
    "# import cross validation\n",
    "from sklearn.model_selection import cross_val_score\n",
    "\n",
    "# models\n",
    "svc_clf = SVC(kernel= 'linear', random_state=43)\n",
    "lr_clf = LogisticRegression(random_state= 4)\n",
    "\n",
    "# produce accuracy score on four folds\n",
    "svc_scores= cross_val_score(svc_clf, X_train, y_train, cv=10)\n",
    "svc_scores"
   ]
  },
  {
   "cell_type": "code",
   "execution_count": 177,
   "id": "d255e78c-c542-450f-9f34-7b48fd65a8e9",
   "metadata": {},
   "outputs": [
    {
     "name": "stdout",
     "output_type": "stream",
     "text": [
      "Average SVC scores:  0.8136363636363637\n",
      "Standard deviation of SVC scores:  0.1029411378876547\n"
     ]
    }
   ],
   "source": [
    "# find mean and standard deviation of all performace scores\n",
    "print(\"Average SVC scores: \", svc_scores.mean())\n",
    "print(\"Standard deviation of SVC scores: \", svc_scores.std())"
   ]
  },
  {
   "cell_type": "code",
   "execution_count": 178,
   "id": "8125fcde-2f30-4ed9-899e-c7761a7b03dd",
   "metadata": {},
   "outputs": [
    {
     "data": {
      "text/plain": [
       "array([0.91666667, 0.66666667, 0.81818182, 0.72727273, 0.90909091,\n",
       "       0.81818182, 0.81818182, 0.90909091, 0.90909091, 0.72727273])"
      ]
     },
     "execution_count": 178,
     "metadata": {},
     "output_type": "execute_result"
    }
   ],
   "source": [
    "lr_scores= cross_val_score(lr_clf, X_train, y_train, cv=10)\n",
    "lr_scores"
   ]
  },
  {
   "cell_type": "code",
   "execution_count": 179,
   "id": "473468b5-922e-49bd-9949-4e0bd4c74881",
   "metadata": {},
   "outputs": [
    {
     "name": "stdout",
     "output_type": "stream",
     "text": [
      "Average lr scores:  0.821969696969697\n",
      "Standard deviation of lr scores:  0.08592726011703912\n"
     ]
    }
   ],
   "source": [
    "# find mean and standard deviation of all performace scores\n",
    "print(\"Average lr scores: \", lr_scores.mean())\n",
    "print(\"Standard deviation of lr scores: \", lr_scores.std())"
   ]
  },
  {
   "cell_type": "markdown",
   "id": "d21a6e88-1f3c-48b0-bd94-258df8f9804d",
   "metadata": {},
   "source": [
    "To note:\n",
    "- The test and train split are not necessarily balanced- don't have similar proportions of all the classes\n",
    "- Taking a stratifies test-train split remedies this"
   ]
  },
  {
   "cell_type": "code",
   "execution_count": 180,
   "id": "9397d34a-a4f9-48c4-ae2b-22f9d5c5e9e3",
   "metadata": {},
   "outputs": [
    {
     "name": "stdout",
     "output_type": "stream",
     "text": [
      "Average SVC scores:  0.7871212121212121\n",
      "Standard deviation of SVC scores:  0.13026999228803782\n",
      "Score on Final Test set:  0.7631578947368421\n"
     ]
    }
   ],
   "source": [
    "# stratified test-train split\n",
    "X_train, X_test, y_train, y_test= train_test_split(\n",
    "    X, y, stratify = y)\n",
    "svc_clf = SVC(kernel= 'linear', random_state=1)\n",
    "svc_clf.fit(X_train, y_train)\n",
    "svc_scores= cross_val_score(svc_clf, X_train, y_train, cv=10)\n",
    "print(\"Average SVC scores: \", svc_scores.mean())\n",
    "print(\"Standard deviation of SVC scores: \", svc_scores.std())\n",
    "y_pred= svc_clf.predict(X_test)\n",
    "print(\"Score on Final Test set: \", accuracy_score(y_test, y_pred))"
   ]
  },
  {
   "cell_type": "code",
   "execution_count": 181,
   "id": "e4fa4a91-a73d-4f00-9c40-58e30f357236",
   "metadata": {},
   "outputs": [
    {
     "data": {
      "text/plain": [
       "array([0.71428571, 0.82142857, 0.75      , 0.92857143])"
      ]
     },
     "execution_count": 181,
     "metadata": {},
     "output_type": "execute_result"
    }
   ],
   "source": [
    "# cross-validation procedure produces stratified folds by default\n",
    "X_train, X_test, y_train, y_test= train_test_split(\n",
    "    X, y, stratify = y)\n",
    "svc_clf = SVC(kernel= 'linear', random_state=3)\n",
    "svc_scores= cross_val_score(svc_clf, X_train, y_train, cv=4)\n",
    "svc_scores"
   ]
  },
  {
   "cell_type": "code",
   "execution_count": 182,
   "id": "24925142-60a1-42f1-b2d3-94de4fe7ea0d",
   "metadata": {},
   "outputs": [
    {
     "data": {
      "text/plain": [
       "array([0.75      , 0.92857143, 0.75      , 0.78571429])"
      ]
     },
     "execution_count": 182,
     "metadata": {},
     "output_type": "execute_result"
    }
   ],
   "source": [
    "# equivalent to above\n",
    "X_train, X_test, y_train, y_test= train_test_split(X, y)\n",
    "from sklearn.model_selection import StratifiedKFold\n",
    "skf= StratifiedKFold(n_splits= 4)\n",
    "svc_scores= cross_val_score(svc_clf, X_train, y_train, cv= skf)\n",
    "svc_scores"
   ]
  },
  {
   "cell_type": "markdown",
   "id": "e421989b-ea26-489c-97d5-8a80bfb549c4",
   "metadata": {},
   "source": [
    "### K-Nearest Neighbors (KNN)\n",
    "\n",
    "with hperparameter optimization"
   ]
  },
  {
   "cell_type": "code",
   "execution_count": 200,
   "id": "6b039cf3-6747-4d12-9c7b-f61a055578f1",
   "metadata": {},
   "outputs": [
    {
     "name": "stdout",
     "output_type": "stream",
     "text": [
      "knn_3 mean score:  1.0\n",
      "knn_3 std:  0.0\n",
      "knn_5 mean score:  1.0\n",
      "knn_5 std:  0.0\n"
     ]
    }
   ],
   "source": [
    "from sklearn.neighbors import KNeighborsClassifier\n",
    "X_train, X_test, y_train, y_test = train_test_split(\n",
    "    X, y, stratify= y, random_state=5, test_size= 0.25\n",
    ")\n",
    "\n",
    "# construct two different KNN models by varying the n_neighbors parameter\n",
    "knn_3_clf= KNeighborsClassifier(n_neighbors=3)\n",
    "knn_5_clf= KNeighborsClassifier(n_neighbors=5)\n",
    "\n",
    "# 10 fold cross-validation\n",
    "knn_3_scores= cross_val_score(knn_3_clf, X_train, y_train, cv=10)\n",
    "knn_5_scores= cross_val_score(knn_5_clf, X_train, y_train, cv=10)\n",
    "\n",
    "# print out scores\n",
    "print(\"knn_3 mean score: \", knn_3_scores.mean())\n",
    "print(\"knn_3 std: \", knn_3_scores.std())\n",
    "print(\"knn_5 mean score: \", knn_5_scores.mean())\n",
    "print(\"knn_5 std: \", knn_5_scores.std())"
   ]
  },
  {
   "cell_type": "code",
   "execution_count": 201,
   "id": "82ba19ec-2495-4dc0-bf82-4c44d307d715",
   "metadata": {},
   "outputs": [
    {
     "data": {
      "text/plain": [
       "[(3, 1.0), (4, 1.0), (5, 1.0), (6, 1.0), (7, 1.0), (8, 1.0)]"
      ]
     },
     "execution_count": 201,
     "metadata": {},
     "output_type": "execute_result"
    }
   ],
   "source": [
    "# run a loop to score the function\n",
    "all_scores= []\n",
    "for n_neighbors in range(3,9,1):\n",
    "    knn_clf = KNeighborsClassifier(n_neighbors=n_neighbors)\n",
    "    all_scores.append((n_neighbors, cross_val_score(\n",
    "        knn_clf, X_train, y_train, cv=10).mean()\n",
    "                      ))\n",
    "sorted(all_scores, key = lambda x: x[1], reverse= True)"
   ]
  },
  {
   "cell_type": "code",
   "execution_count": 202,
   "id": "5146ad7d-3ef7-4386-ac3d-e391b7da0914",
   "metadata": {},
   "outputs": [],
   "source": [
    "# output suggests that n_neighbors =8 is a good choice"
   ]
  },
  {
   "cell_type": "markdown",
   "id": "4ea0e4fd-5521-4fe2-8801-e222aa9f4e5b",
   "metadata": {},
   "source": [
    "### Quick SVC- a classifier and regressor\n",
    "Any regression can be turned into classification by using thresholds. A binary classification can be viewed as a regression problem by using a regressor. The target variables produced will be real numbers, not the original class variables."
   ]
  },
  {
   "cell_type": "code",
   "execution_count": 203,
   "id": "0f21d5ab-8e7e-4b36-9338-41ef26b8be74",
   "metadata": {},
   "outputs": [],
   "source": [
    "# consider targets 0 and 1 corresponding to Setosa and Versicolor\n",
    "# use boolean array iris.target <2 to filter out target 2\n",
    "X= iris.data[iris.target <2]\n",
    "y = iris.target[iris.target< 2]"
   ]
  },
  {
   "cell_type": "code",
   "execution_count": 204,
   "id": "0144944c-c155-4754-ad14-a638e4c5a64f",
   "metadata": {},
   "outputs": [
    {
     "name": "stdout",
     "output_type": "stream",
     "text": [
      "SVC scores mean:  1.0\n",
      "SVC scores std:  0.0\n"
     ]
    }
   ],
   "source": [
    "X_train, X_test, y_train, y_test = train_test_split(\n",
    "    X, y, stratify = y, test_size= 0.25)\n",
    "svc_clf= SVC(kernel= 'linear').fit(X_train, y_train)\n",
    "svc_scores= cross_val_score(svc_clf, X_train, y_train, cv=4)\n",
    "print(\"SVC scores mean: \", svc_scores.mean())\n",
    "print(\"SVC scores std: \", svc_scores.std())"
   ]
  },
  {
   "cell_type": "code",
   "execution_count": 205,
   "id": "b1f207db-d5d4-48be-b3aa-086f6727e97b",
   "metadata": {},
   "outputs": [],
   "source": [
    "# perform the same with support vector regression\n",
    "# import SVR from sklearn.svm - same that contains SVC\n",
    "from sklearn.svm import SVR\n",
    "svr_clf = SVR(kernel = 'linear').fit(X_train, y_train)"
   ]
  },
  {
   "cell_type": "code",
   "execution_count": 206,
   "id": "a1adaec2-af48-4e3f-b31f-1d382f82af7b",
   "metadata": {},
   "outputs": [],
   "source": [
    "# scorer\n",
    "from sklearn.metrics import make_scorer\n",
    "\n",
    "def for_scorer(y_test, y_pred_orig):\n",
    "    # rounds prediction to nearest integer\n",
    "    y_pred = np.rint(y_pred_orig).astype(int)\n",
    "    return accuracy_score(y_test, y_pred)\n",
    "\n",
    "# higher accuracy is better\n",
    "svr_to_class_scorer = make_scorer(for_scorer, \n",
    "                                  greater_is_better= True)"
   ]
  },
  {
   "cell_type": "code",
   "execution_count": 207,
   "id": "fa39cd78-94d1-44be-a47f-8370adb509ff",
   "metadata": {},
   "outputs": [
    {
     "name": "stdout",
     "output_type": "stream",
     "text": [
      "SVR scores mean:  1.0\n",
      "SVR scores std:  0.0\n"
     ]
    }
   ],
   "source": [
    "svr_scores= cross_val_score(svr_clf, X_train, y_train, \n",
    "                            cv=4, scoring = svr_to_class_scorer)\n",
    "print(\"SVR scores mean: \", svr_scores.mean())\n",
    "print(\"SVR scores std: \", svr_scores.std())"
   ]
  },
  {
   "cell_type": "code",
   "execution_count": 208,
   "id": "1e2d0af4-37bc-43dd-b370-90d74c3c9a31",
   "metadata": {},
   "outputs": [
    {
     "data": {
      "text/plain": [
       "1.0"
      ]
     },
     "execution_count": 208,
     "metadata": {},
     "output_type": "execute_result"
    }
   ],
   "source": [
    "# Linear vs non-linear . the latter is hard to explain\n",
    "# Polynomical Kernel of degree 3\n",
    "svc_poly_clf = SVC(kernel = 'poly', degree= 3).fit(X_train, y_train)\n",
    "svc_poly_scores= cross_val_score(svc_poly_clf, X_train, \n",
    "                                 y_train, cv=10)\n",
    "svc_poly_scores.mean()"
   ]
  },
  {
   "cell_type": "code",
   "execution_count": null,
   "id": "3b925c52-bf18-4f2b-9605-798d674da1f0",
   "metadata": {},
   "outputs": [],
   "source": []
  }
 ],
 "metadata": {
  "kernelspec": {
   "display_name": "venv_ml",
   "language": "python",
   "name": "venv_ml"
  },
  "language_info": {
   "codemirror_mode": {
    "name": "ipython",
    "version": 3
   },
   "file_extension": ".py",
   "mimetype": "text/x-python",
   "name": "python",
   "nbconvert_exporter": "python",
   "pygments_lexer": "ipython3",
   "version": "3.8.8"
  }
 },
 "nbformat": 4,
 "nbformat_minor": 5
}
