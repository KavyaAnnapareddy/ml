{
 "cells": [
  {
   "cell_type": "markdown",
   "id": "a9bcc599-73f1-45f3-ac7b-ab1f05940ef4",
   "metadata": {},
   "source": [
    "# Numpy\n",
    "The scikit-learn library requires input tables of 2-dimensional NumPy arrays"
   ]
  },
  {
   "cell_type": "code",
   "execution_count": 1,
   "id": "8f13c01c-6b02-48a4-ad85-5d3b10492bcd",
   "metadata": {},
   "outputs": [
    {
     "data": {
      "text/plain": [
       "array([0, 1, 2, 3, 4, 5, 6, 7, 8, 9])"
      ]
     },
     "execution_count": 1,
     "metadata": {},
     "output_type": "execute_result"
    }
   ],
   "source": [
    "import numpy as np\n",
    "\n",
    "# produce numpy array of 10 digits\n",
    "np.arange(10)"
   ]
  },
  {
   "cell_type": "code",
   "execution_count": 2,
   "id": "eb494f2b-472c-49fd-b45b-99c374e284d0",
   "metadata": {},
   "outputs": [
    {
     "data": {
      "text/plain": [
       "(10,)"
      ]
     },
     "execution_count": 2,
     "metadata": {},
     "output_type": "execute_result"
    }
   ],
   "source": [
    "# shape of array\n",
    "array_1 = np.arange(10)\n",
    "array_1.shape"
   ]
  },
  {
   "cell_type": "code",
   "execution_count": 7,
   "id": "63515fed-6cd4-4c0e-a214-197db3b6d816",
   "metadata": {},
   "outputs": [
    {
     "data": {
      "text/plain": [
       "array([[0, 1],\n",
       "       [2, 3],\n",
       "       [4, 5],\n",
       "       [6, 7],\n",
       "       [8, 9]])"
      ]
     },
     "execution_count": 7,
     "metadata": {},
     "output_type": "execute_result"
    }
   ],
   "source": [
    "# reshape the array\n",
    "array_1= array_1.reshape((5,2))\n",
    "array_1"
   ]
  },
  {
   "cell_type": "code",
   "execution_count": 8,
   "id": "79813ffd-b914-4d58-953e-15032efe2fec",
   "metadata": {},
   "outputs": [
    {
     "data": {
      "text/plain": [
       "(5, 2)"
      ]
     },
     "execution_count": 8,
     "metadata": {},
     "output_type": "execute_result"
    }
   ],
   "source": [
    "array_1.shape"
   ]
  },
  {
   "cell_type": "code",
   "execution_count": 9,
   "id": "ff43977b-cc52-4370-9a41-d1f5724b9044",
   "metadata": {},
   "outputs": [
    {
     "data": {
      "text/plain": [
       "2"
      ]
     },
     "execution_count": 9,
     "metadata": {},
     "output_type": "execute_result"
    }
   ],
   "source": [
    "array_1.ndim"
   ]
  },
  {
   "cell_type": "code",
   "execution_count": 10,
   "id": "1e833338-1973-45dd-845f-88546f76f5b0",
   "metadata": {},
   "outputs": [
    {
     "data": {
      "text/plain": [
       "array([[ 1,  2],\n",
       "       [ 3,  4],\n",
       "       [ 5,  6],\n",
       "       [ 7,  8],\n",
       "       [ 9, 10]])"
      ]
     },
     "execution_count": 10,
     "metadata": {},
     "output_type": "execute_result"
    }
   ],
   "source": [
    "# add 1 to every element of the array by broadcasting\n",
    "array_1+1"
   ]
  },
  {
   "cell_type": "code",
   "execution_count": 11,
   "id": "f5589a22-1e98-41f6-aa3c-785f7579088e",
   "metadata": {},
   "outputs": [
    {
     "data": {
      "text/plain": [
       "array([ 0,  1,  4,  9, 16, 25, 36, 49, 64, 81])"
      ]
     },
     "execution_count": 11,
     "metadata": {},
     "output_type": "execute_result"
    }
   ],
   "source": [
    "# element wise multiplication\n",
    "array_2= np.arange(10)\n",
    "array_2 * array_2"
   ]
  },
  {
   "cell_type": "code",
   "execution_count": 12,
   "id": "33570258-4ab0-4ade-a987-88b35916a4b7",
   "metadata": {},
   "outputs": [
    {
     "data": {
      "text/plain": [
       "array([[ 0,  1],\n",
       "       [ 4,  9],\n",
       "       [16, 25],\n",
       "       [36, 49],\n",
       "       [64, 81]])"
      ]
     },
     "execution_count": 12,
     "metadata": {},
     "output_type": "execute_result"
    }
   ],
   "source": [
    "(array_2**2).reshape(5,2)"
   ]
  },
  {
   "cell_type": "code",
   "execution_count": null,
   "id": "38939de2-c6cf-43cf-ab31-c667ba346165",
   "metadata": {},
   "outputs": [],
   "source": []
  }
 ],
 "metadata": {
  "kernelspec": {
   "display_name": "venv_ml",
   "language": "python",
   "name": "venv_ml"
  },
  "language_info": {
   "codemirror_mode": {
    "name": "ipython",
    "version": 3
   },
   "file_extension": ".py",
   "mimetype": "text/x-python",
   "name": "python",
   "nbconvert_exporter": "python",
   "pygments_lexer": "ipython3",
   "version": "3.8.8"
  }
 },
 "nbformat": 4,
 "nbformat_minor": 5
}
