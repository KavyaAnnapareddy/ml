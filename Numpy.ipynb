{
 "cells": [
  {
   "cell_type": "markdown",
   "id": "67697fee-00b6-4f02-a911-59b15664fdf3",
   "metadata": {},
   "source": [
    "# Numpy\n",
    "## Initializing Numpy arrays"
   ]
  },
  {
   "cell_type": "code",
   "execution_count": 1,
   "id": "c4640b5b-4f6c-492c-b675-c073fc0bcd91",
   "metadata": {},
   "outputs": [],
   "source": [
    "import numpy as np"
   ]
  },
  {
   "cell_type": "code",
   "execution_count": 9,
   "id": "8c35f324-4b0b-40fa-91c8-12a0db3a1447",
   "metadata": {},
   "outputs": [
    {
     "data": {
      "text/plain": [
       "array([[0, 1],\n",
       "       [2, 3],\n",
       "       [4, 5],\n",
       "       [6, 7],\n",
       "       [8, 9]])"
      ]
     },
     "execution_count": 9,
     "metadata": {},
     "output_type": "execute_result"
    }
   ],
   "source": [
    "np.arange(10).reshape((5,2))"
   ]
  },
  {
   "cell_type": "code",
   "execution_count": 3,
   "id": "d8be0dd0-d503-4fa5-91c1-ce2c2ad8e728",
   "metadata": {},
   "outputs": [
    {
     "data": {
      "text/plain": [
       "array([[0., 0.],\n",
       "       [0., 0.],\n",
       "       [0., 0.],\n",
       "       [0., 0.],\n",
       "       [0., 0.]])"
      ]
     },
     "execution_count": 3,
     "metadata": {},
     "output_type": "execute_result"
    }
   ],
   "source": [
    "# Initialize an array of zeros with np.zeros\n",
    "np.zeros((5,2))"
   ]
  },
  {
   "cell_type": "code",
   "execution_count": 8,
   "id": "d628d16e-0af2-4ee7-8600-9377941679fa",
   "metadata": {},
   "outputs": [
    {
     "data": {
      "text/plain": [
       "array([[1, 1],\n",
       "       [1, 1],\n",
       "       [1, 1],\n",
       "       [1, 1],\n",
       "       [1, 1]])"
      ]
     },
     "execution_count": 8,
     "metadata": {},
     "output_type": "execute_result"
    }
   ],
   "source": [
    "# initialize array of ones using np.ones. introduce dtype \n",
    "np.ones((5,2), dtype= int)"
   ]
  },
  {
   "cell_type": "code",
   "execution_count": 7,
   "id": "d0b5e638-0417-4b5d-a5f2-0d7a72e7e840",
   "metadata": {},
   "outputs": [
    {
     "data": {
      "text/plain": [
       "array([[0., 0.],\n",
       "       [0., 0.],\n",
       "       [0., 0.],\n",
       "       [0., 0.],\n",
       "       [0., 0.]])"
      ]
     },
     "execution_count": 7,
     "metadata": {},
     "output_type": "execute_result"
    }
   ],
   "source": [
    "# use np.empty to allocate memory for an array\n",
    "np.empty((5,2), dtype= float)"
   ]
  },
  {
   "cell_type": "markdown",
   "id": "27d0d9bc-0662-4809-a938-d4b20cffd46a",
   "metadata": {},
   "source": [
    "## Indexing"
   ]
  },
  {
   "cell_type": "code",
   "execution_count": null,
   "id": "31e405fe-7977-4eb0-a9c7-d0d408a1a115",
   "metadata": {},
   "outputs": [],
   "source": []
  }
 ],
 "metadata": {
  "kernelspec": {
   "display_name": "venv_ml",
   "language": "python",
   "name": "venv_ml"
  },
  "language_info": {
   "codemirror_mode": {
    "name": "ipython",
    "version": 3
   },
   "file_extension": ".py",
   "mimetype": "text/x-python",
   "name": "python",
   "nbconvert_exporter": "python",
   "pygments_lexer": "ipython3",
   "version": "3.8.8"
  }
 },
 "nbformat": 4,
 "nbformat_minor": 5
}
